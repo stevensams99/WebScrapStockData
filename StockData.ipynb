{
    "cells": [
        {
            "cell_type": "markdown",
            "metadata": {
                "collapsed": true,
                "id": "64611226-737d-42e9-89d8-1f2634eadc9a",
                "jupyter": {
                    "outputs_hidden": true
                }
            },
            "source": "# Question 1: Use yfinance to Extract Stock Data\n\nReset the index, save, and display the first five rows of the tesla_data dataframe using the head function."
        },
        {
            "cell_type": "code",
            "execution_count": null,
            "metadata": {
                "id": "28e2b01d-55c8-4b28-b18a-c53ac02c7cb4"
            },
            "outputs": [],
            "source": ""
        },
        {
            "cell_type": "markdown",
            "metadata": {
                "id": "2ea46042-d5d6-41e5-887a-3af95de42cb5"
            },
            "source": "# Question 2: Use Webscraping to Extract Tesla Revenue Data\n\nDisplay the last five rows of the tesla_revenue dataframe using the tail function."
        },
        {
            "cell_type": "code",
            "execution_count": null,
            "metadata": {
                "id": "41e0ab57-221a-4a73-a148-c33cab18cf84"
            },
            "outputs": [],
            "source": ""
        },
        {
            "cell_type": "markdown",
            "metadata": {
                "id": "7dd626b7-cf48-4a97-8f04-c0c2a5e0c191"
            },
            "source": "# Question 3: Use yfinance to Extract Stock Data\n\nReset the index, save, and display the first five rows of the gme_data dataframe using the head function."
        },
        {
            "cell_type": "code",
            "execution_count": null,
            "metadata": {
                "id": "1d4ffc1a-acae-4c92-a8bf-2662d0b0d876"
            },
            "outputs": [],
            "source": ""
        },
        {
            "cell_type": "markdown",
            "metadata": {
                "id": "bd66a097-cc4f-48ba-a270-46884b9edc63"
            },
            "source": "# Question 4: Use Webscraping to Extract GME Revenue Data\n\nDisplay the last five rows of the gme_revenue dataframe using the tail function."
        },
        {
            "cell_type": "code",
            "execution_count": null,
            "metadata": {
                "id": "360021b4-37d2-4663-9fdd-94e8637558be"
            },
            "outputs": [],
            "source": ""
        },
        {
            "cell_type": "markdown",
            "metadata": {
                "id": "d7617130-7813-45ea-a864-734e557a7ce4"
            },
            "source": "# Question 5: Plot Tesla Stock Graph\n\nUse the make_graph function to graph the Tesla Stock Data, also provide a title for the graph."
        },
        {
            "cell_type": "code",
            "execution_count": null,
            "metadata": {
                "id": "bbc2f8b8-adc1-4790-bf5d-f4a8c6c7e21e"
            },
            "outputs": [],
            "source": ""
        },
        {
            "cell_type": "markdown",
            "metadata": {
                "id": "9ea84f0b-d8db-4424-92ed-39502b467051"
            },
            "source": "# Question 6: Plot GameStop Stock Graph\n\nUse the make_graph function to graph the GameStop Stock Data, also provide a title for the graph."
        },
        {
            "cell_type": "code",
            "execution_count": null,
            "metadata": {
                "id": "6cdf75fe-9971-4d49-b876-14b37be83e2c"
            },
            "outputs": [],
            "source": ""
        }
    ],
    "metadata": {
        "kernelspec": {
            "display_name": "Python 3.11",
            "language": "python",
            "name": "python3"
        },
        "language_info": {
            "codemirror_mode": {
                "name": "ipython",
                "version": 3
            },
            "file_extension": ".py",
            "mimetype": "text/x-python",
            "name": "python",
            "nbconvert_exporter": "python",
            "pygments_lexer": "ipython3",
            "version": "3.11.9"
        }
    },
    "nbformat": 4,
    "nbformat_minor": 4
}